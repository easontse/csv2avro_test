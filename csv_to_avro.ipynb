{
 "cells": [
  {
   "cell_type": "code",
   "execution_count": 7,
   "metadata": {
    "collapsed": false,
    "scrolled": false
   },
   "outputs": [
    {
     "ename": "AvroTypeException",
     "evalue": "The datum {\"VendorID\":2,\"tpep_pickup_datetime\":1421348739.0,\"tpep_dropoff_datetime\":1421349822.0,\"passenger_count\":1,\"trip_distance\":1.59,\"pickup_longitude\":-73.993896484375,\"pickup_latitude\":40.7501106262207,\"RateCodeID\":1,\"store_and_fwd_flag\":false,\"dropoff_longitude\":-73.97478485107422,\"dropoff_latitude\":40.75061798095703,\"payment_type\":1,\"fare_amount\":12.0,\"extra\":1.0,\"mta_tax\":0.5,\"tip_amount\":3.25,\"tolls_amount\":0.0,\"improvement_surcharge\":0.3,\"total_amount\":17.05} is not an example of the schema {\n  \"namespace\": \"example.avro\", \n  \"type\": \"record\", \n  \"name\": \"yellow_tripdata_2015-01\", \n  \"fields\": [\n    {\n      \"type\": \"int\", \n      \"name\": \"VendorID\"\n    }, \n    {\n      \"type\": \"float\", \n      \"name\": \"tpep_pickup_datetime\"\n    }, \n    {\n      \"type\": \"float\", \n      \"name\": \"tpep_dropoff_datetime\"\n    }, \n    {\n      \"type\": \"int\", \n      \"name\": \"passenger_count\"\n    }, \n    {\n      \"type\": \"float\", \n      \"name\": \"trip_distance\"\n    }, \n    {\n      \"type\": \"double\", \n      \"name\": \"pickup_longitude\"\n    }, \n    {\n      \"type\": \"double\", \n      \"name\": \"pickup_latitude\"\n    }, \n    {\n      \"type\": \"int\", \n      \"name\": \"RateCodeID\"\n    }, \n    {\n      \"type\": \"boolean\", \n      \"name\": \"store_and_fwd_flag\"\n    }, \n    {\n      \"type\": \"float\", \n      \"name\": \"dropoff_longitude\"\n    }, \n    {\n      \"type\": \"float\", \n      \"name\": \"dropoff_latitude\"\n    }, \n    {\n      \"type\": \"int\", \n      \"name\": \"payment_type\"\n    }, \n    {\n      \"type\": \"float\", \n      \"name\": \"fare_amount\"\n    }, \n    {\n      \"type\": \"float\", \n      \"name\": \"extra\"\n    }, \n    {\n      \"type\": \"float\", \n      \"name\": \"mta_tax\"\n    }, \n    {\n      \"type\": \"float\", \n      \"name\": \"tip_amount\"\n    }, \n    {\n      \"type\": \"float\", \n      \"name\": \"tolls_amount\"\n    }, \n    {\n      \"type\": \"float\", \n      \"name\": \"improvement_surcharge\"\n    }, \n    {\n      \"type\": \"float\", \n      \"name\": \"total_amount\"\n    }\n  ]\n}",
     "output_type": "error",
     "traceback": [
      "\u001b[1;31m---------------------------------------------------------------------------\u001b[0m",
      "\u001b[1;31mAvroTypeException\u001b[0m                         Traceback (most recent call last)",
      "\u001b[1;32m<ipython-input-7-64877fe7fcde>\u001b[0m in \u001b[0;36m<module>\u001b[1;34m()\u001b[0m\n\u001b[0;32m     65\u001b[0m \u001b[1;32mfor\u001b[0m \u001b[0mr\u001b[0m \u001b[1;32min\u001b[0m \u001b[0mdata\u001b[0m\u001b[1;33m:\u001b[0m\u001b[1;33m\u001b[0m\u001b[0m\n\u001b[0;32m     66\u001b[0m     \u001b[0mjson_str\u001b[0m \u001b[1;33m=\u001b[0m \u001b[0mserializer\u001b[0m\u001b[1;33m.\u001b[0m\u001b[0mto_json\u001b[0m\u001b[1;33m(\u001b[0m\u001b[0mr\u001b[0m\u001b[1;33m)\u001b[0m\u001b[1;33m\u001b[0m\u001b[0m\n\u001b[1;32m---> 67\u001b[1;33m     \u001b[0mwriter\u001b[0m\u001b[1;33m.\u001b[0m\u001b[0mappend\u001b[0m\u001b[1;33m(\u001b[0m\u001b[0mjson_str\u001b[0m\u001b[1;33m)\u001b[0m\u001b[1;33m\u001b[0m\u001b[0m\n\u001b[0m\u001b[0;32m     68\u001b[0m \u001b[0mwriter\u001b[0m\u001b[1;33m.\u001b[0m\u001b[0mclose\u001b[0m\u001b[1;33m(\u001b[0m\u001b[1;33m)\u001b[0m\u001b[1;33m\u001b[0m\u001b[0m\n",
      "\u001b[1;32m/home/eason/code/avro/venv/local/lib/python2.7/site-packages/avro-1.7.7-py2.7.egg/avro/datafile.pyc\u001b[0m in \u001b[0;36mappend\u001b[1;34m(self, datum)\u001b[0m\n\u001b[0;32m    194\u001b[0m   \u001b[1;32mdef\u001b[0m \u001b[0mappend\u001b[0m\u001b[1;33m(\u001b[0m\u001b[0mself\u001b[0m\u001b[1;33m,\u001b[0m \u001b[0mdatum\u001b[0m\u001b[1;33m)\u001b[0m\u001b[1;33m:\u001b[0m\u001b[1;33m\u001b[0m\u001b[0m\n\u001b[0;32m    195\u001b[0m     \u001b[1;34m\"\"\"Append a datum to the file.\"\"\"\u001b[0m\u001b[1;33m\u001b[0m\u001b[0m\n\u001b[1;32m--> 196\u001b[1;33m     \u001b[0mself\u001b[0m\u001b[1;33m.\u001b[0m\u001b[0mdatum_writer\u001b[0m\u001b[1;33m.\u001b[0m\u001b[0mwrite\u001b[0m\u001b[1;33m(\u001b[0m\u001b[0mdatum\u001b[0m\u001b[1;33m,\u001b[0m \u001b[0mself\u001b[0m\u001b[1;33m.\u001b[0m\u001b[0mbuffer_encoder\u001b[0m\u001b[1;33m)\u001b[0m\u001b[1;33m\u001b[0m\u001b[0m\n\u001b[0m\u001b[0;32m    197\u001b[0m     \u001b[0mself\u001b[0m\u001b[1;33m.\u001b[0m\u001b[0mblock_count\u001b[0m \u001b[1;33m+=\u001b[0m \u001b[1;36m1\u001b[0m\u001b[1;33m\u001b[0m\u001b[0m\n\u001b[0;32m    198\u001b[0m \u001b[1;33m\u001b[0m\u001b[0m\n",
      "\u001b[1;32m/home/eason/code/avro/venv/local/lib/python2.7/site-packages/avro-1.7.7-py2.7.egg/avro/io.pyc\u001b[0m in \u001b[0;36mwrite\u001b[1;34m(self, datum, encoder)\u001b[0m\n\u001b[0;32m    767\u001b[0m     \u001b[1;31m# validate datum\u001b[0m\u001b[1;33m\u001b[0m\u001b[1;33m\u001b[0m\u001b[0m\n\u001b[0;32m    768\u001b[0m     \u001b[1;32mif\u001b[0m \u001b[1;32mnot\u001b[0m \u001b[0mvalidate\u001b[0m\u001b[1;33m(\u001b[0m\u001b[0mself\u001b[0m\u001b[1;33m.\u001b[0m\u001b[0mwriters_schema\u001b[0m\u001b[1;33m,\u001b[0m \u001b[0mdatum\u001b[0m\u001b[1;33m)\u001b[0m\u001b[1;33m:\u001b[0m\u001b[1;33m\u001b[0m\u001b[0m\n\u001b[1;32m--> 769\u001b[1;33m       \u001b[1;32mraise\u001b[0m \u001b[0mAvroTypeException\u001b[0m\u001b[1;33m(\u001b[0m\u001b[0mself\u001b[0m\u001b[1;33m.\u001b[0m\u001b[0mwriters_schema\u001b[0m\u001b[1;33m,\u001b[0m \u001b[0mdatum\u001b[0m\u001b[1;33m)\u001b[0m\u001b[1;33m\u001b[0m\u001b[0m\n\u001b[0m\u001b[0;32m    770\u001b[0m \u001b[1;33m\u001b[0m\u001b[0m\n\u001b[0;32m    771\u001b[0m     \u001b[0mself\u001b[0m\u001b[1;33m.\u001b[0m\u001b[0mwrite_data\u001b[0m\u001b[1;33m(\u001b[0m\u001b[0mself\u001b[0m\u001b[1;33m.\u001b[0m\u001b[0mwriters_schema\u001b[0m\u001b[1;33m,\u001b[0m \u001b[0mdatum\u001b[0m\u001b[1;33m,\u001b[0m \u001b[0mencoder\u001b[0m\u001b[1;33m)\u001b[0m\u001b[1;33m\u001b[0m\u001b[0m\n",
      "\u001b[1;31mAvroTypeException\u001b[0m: The datum {\"VendorID\":2,\"tpep_pickup_datetime\":1421348739.0,\"tpep_dropoff_datetime\":1421349822.0,\"passenger_count\":1,\"trip_distance\":1.59,\"pickup_longitude\":-73.993896484375,\"pickup_latitude\":40.7501106262207,\"RateCodeID\":1,\"store_and_fwd_flag\":false,\"dropoff_longitude\":-73.97478485107422,\"dropoff_latitude\":40.75061798095703,\"payment_type\":1,\"fare_amount\":12.0,\"extra\":1.0,\"mta_tax\":0.5,\"tip_amount\":3.25,\"tolls_amount\":0.0,\"improvement_surcharge\":0.3,\"total_amount\":17.05} is not an example of the schema {\n  \"namespace\": \"example.avro\", \n  \"type\": \"record\", \n  \"name\": \"yellow_tripdata_2015-01\", \n  \"fields\": [\n    {\n      \"type\": \"int\", \n      \"name\": \"VendorID\"\n    }, \n    {\n      \"type\": \"float\", \n      \"name\": \"tpep_pickup_datetime\"\n    }, \n    {\n      \"type\": \"float\", \n      \"name\": \"tpep_dropoff_datetime\"\n    }, \n    {\n      \"type\": \"int\", \n      \"name\": \"passenger_count\"\n    }, \n    {\n      \"type\": \"float\", \n      \"name\": \"trip_distance\"\n    }, \n    {\n      \"type\": \"double\", \n      \"name\": \"pickup_longitude\"\n    }, \n    {\n      \"type\": \"double\", \n      \"name\": \"pickup_latitude\"\n    }, \n    {\n      \"type\": \"int\", \n      \"name\": \"RateCodeID\"\n    }, \n    {\n      \"type\": \"boolean\", \n      \"name\": \"store_and_fwd_flag\"\n    }, \n    {\n      \"type\": \"float\", \n      \"name\": \"dropoff_longitude\"\n    }, \n    {\n      \"type\": \"float\", \n      \"name\": \"dropoff_latitude\"\n    }, \n    {\n      \"type\": \"int\", \n      \"name\": \"payment_type\"\n    }, \n    {\n      \"type\": \"float\", \n      \"name\": \"fare_amount\"\n    }, \n    {\n      \"type\": \"float\", \n      \"name\": \"extra\"\n    }, \n    {\n      \"type\": \"float\", \n      \"name\": \"mta_tax\"\n    }, \n    {\n      \"type\": \"float\", \n      \"name\": \"tip_amount\"\n    }, \n    {\n      \"type\": \"float\", \n      \"name\": \"tolls_amount\"\n    }, \n    {\n      \"type\": \"float\", \n      \"name\": \"improvement_surcharge\"\n    }, \n    {\n      \"type\": \"float\", \n      \"name\": \"total_amount\"\n    }\n  ]\n}"
     ]
    }
   ],
   "source": [
    "import avro.schema\n",
    "from avro.datafile import DataFileReader, DataFileWriter\n",
    "from avro.io import DatumReader, DatumWriter\n",
    "import json\n",
    "import pandas as pd\n",
    "from datetime import datetime\n",
    "from avro_json_serializer import AvroJsonSerializer\n",
    "\n",
    "def to_unix_time(dt):\n",
    "    dt_obj = datetime.strptime(dt,'%Y-%m-%d %H:%M:%S')\n",
    "    epoch = datetime(1970,1,1)\n",
    "    result = dt_obj - epoch\n",
    "    return result.total_seconds()\n",
    "\n",
    "def to_boolean(string):\n",
    "    if string == 'Y':\n",
    "        return True\n",
    "    elif string == 'N':\n",
    "        return False\n",
    "\n",
    "\n",
    "schema_dict = {\"namespace\": \"example.avro\",\n",
    " \"type\": \"record\",\n",
    " \"name\": \"yellow_tripdata_2015-01\",\n",
    " \"fields\": [\n",
    "     {\"name\": \"VendorID\", \"type\": \"int\"},\n",
    "     {\"name\": \"tpep_pickup_datetime\",  \"type\": \"float\"},\n",
    "     {\"name\": \"tpep_dropoff_datetime\", \"type\": \"float\"},\n",
    "     {\"name\": \"passenger_count\", \"type\": \"int\"},\n",
    "     {\"name\": \"trip_distance\", \"type\": \"float\"},\n",
    "     {\"name\": \"pickup_longitude\", \"type\": \"double\"},\n",
    "     {\"name\": \"pickup_latitude\", \"type\": \"double\"},\n",
    "     {\"name\": \"RateCodeID\", \"type\": \"int\"},\n",
    "     {\"name\": \"store_and_fwd_flag\", \"type\": \"boolean\"},\n",
    "     {\"name\": \"dropoff_longitude\", \"type\": \"float\"},\n",
    "     {\"name\": \"dropoff_latitude\", \"type\": \"float\"},\n",
    "     {\"name\": \"payment_type\", \"type\": \"int\"},\n",
    "     {\"name\": \"fare_amount\", \"type\": \"float\"},\n",
    "     {\"name\": \"extra\", \"type\": \"float\"},\n",
    "     {\"name\": \"mta_tax\", \"type\": \"float\"},\n",
    "     {\"name\": \"tip_amount\", \"type\": \"float\"},\n",
    "     {\"name\": \"tolls_amount\", \"type\": \"float\"},\n",
    "     {\"name\": \"improvement_surcharge\", \"type\": \"float\"},\n",
    "     {\"name\": \"total_amount\", \"type\": \"float\"}\n",
    " ]\n",
    "}\n",
    "\n",
    "avro_schema = avro.schema.make_avsc_object(schema_dict, avro.schema.Names())\n",
    "serializer = AvroJsonSerializer(avro_schema)\n",
    "    \n",
    "df = pd.read_csv('csv/head100_yellow_tripdata_2015-01.csv',\n",
    "                 encoding='utf-8', engine='c')\n",
    "\n",
    "df['tpep_pickup_datetime'] = df['tpep_pickup_datetime'].apply(to_unix_time)\n",
    "df['tpep_dropoff_datetime'] = df['tpep_dropoff_datetime'].apply(to_unix_time)\n",
    "df['store_and_fwd_flag'] = df['store_and_fwd_flag'].apply(to_boolean)\n",
    "\n",
    "data = df.drop_duplicates().to_dict('record')[:10]\n",
    "\n",
    "#schema = avro.schema.parse(open(\"yellow_tripdata_2015-01.avsc\").read())\n",
    "writer = DataFileWriter(open('head100_yellow_tripdata_2015-01.avro', 'wb'),\n",
    "                    DatumWriter(),\n",
    "                    avro_schema)\n",
    "        \n",
    "for r in data:\n",
    "    json_str = serializer.to_json(r)\n",
    "    writer.append(json_str)\n",
    "writer.close()"
   ]
  },
  {
   "cell_type": "code",
   "execution_count": 8,
   "metadata": {
    "collapsed": false
   },
   "outputs": [
    {
     "name": "stdout",
     "output_type": "stream",
     "text": [
      "(u'trip_distance', <type 'float'>, 1.59)\n",
      "(u'VendorID', <type 'int'>, 2)\n",
      "(u'improvement_surcharge', <type 'float'>, 0.3)\n",
      "(u'tip_amount', <type 'float'>, 3.25)\n",
      "(u'total_amount', <type 'float'>, 17.05)\n",
      "(u'tolls_amount', <type 'float'>, 0.0)\n",
      "(u'tpep_dropoff_datetime', <type 'float'>, 1421349822.0)\n",
      "(u'RateCodeID', <type 'int'>, 1)\n",
      "(u'extra', <type 'float'>, 1.0)\n",
      "(u'fare_amount', <type 'float'>, 12.0)\n",
      "(u'pickup_longitude', <type 'float'>, -73.993896484375)\n",
      "(u'dropoff_longitude', <type 'float'>, -73.97478485107422)\n",
      "(u'passenger_count', <type 'int'>, 1)\n",
      "(u'payment_type', <type 'int'>, 1)\n",
      "(u'mta_tax', <type 'float'>, 0.5)\n",
      "(u'store_and_fwd_flag', <type 'bool'>, False)\n",
      "(u'pickup_latitude', <type 'float'>, 40.7501106262207)\n",
      "(u'dropoff_latitude', <type 'float'>, 40.75061798095703)\n",
      "(u'tpep_pickup_datetime', <type 'float'>, 1421348739.0)\n"
     ]
    }
   ],
   "source": [
    "for r in data:\n",
    "    try:\n",
    "        d = json.dumps(record,ensure_ascii=False)\n",
    "        writer.append(d)\n",
    "    except:\n",
    "        for x,y in r.items():\n",
    "            print(x,type(y), y)\n",
    "        break"
   ]
  },
  {
   "cell_type": "code",
   "execution_count": 91,
   "metadata": {
    "collapsed": false,
    "scrolled": true
   },
   "outputs": [
    {
     "data": {
      "text/plain": [
       "VendorID                 False\n",
       "tpep_pickup_datetime     False\n",
       "tpep_dropoff_datetime    False\n",
       "passenger_count          False\n",
       "trip_distance            False\n",
       "pickup_longitude         False\n",
       "pickup_latitude          False\n",
       "RateCodeID               False\n",
       "store_and_fwd_flag       False\n",
       "dropoff_longitude        False\n",
       "dropoff_latitude         False\n",
       "payment_type             False\n",
       "fare_amount              False\n",
       "extra                    False\n",
       "mta_tax                  False\n",
       "tip_amount               False\n",
       "tolls_amount             False\n",
       "improvement_surcharge    False\n",
       "total_amount             False\n",
       "dtype: bool"
      ]
     },
     "execution_count": 91,
     "metadata": {},
     "output_type": "execute_result"
    }
   ],
   "source": [
    "import pandas as pd\n",
    "from datetime import datetime\n",
    "\n",
    "def to_unix_time(dt):\n",
    "    dt_obj = datetime.strptime(dt,'%Y-%m-%d %H:%M:%S')\n",
    "    epoch = datetime(1970,1,1)\n",
    "    result = dt_obj - epoch\n",
    "    return result.total_seconds()\n",
    "\n",
    "def to_boolean(string):\n",
    "    if string == 'Y':\n",
    "        return True\n",
    "    elif string == 'N':\n",
    "        return False\n",
    "\n",
    "df = pd.read_csv('csv/head100_yellow_tripdata_2015-01.csv',\n",
    "                 encoding='utf-8', engine='c')\n",
    "\n",
    "df['tpep_pickup_datetime'] = df['tpep_pickup_datetime'].apply(to_unix_time)\n",
    "df['tpep_dropoff_datetime'] = df['tpep_dropoff_datetime'].apply(to_unix_time)\n",
    "df['store_and_fwd_flag'] = df['store_and_fwd_flag'].apply(to_boolean)\n",
    "\n",
    "df.isnull().any()"
   ]
  },
  {
   "cell_type": "code",
   "execution_count": 66,
   "metadata": {
    "collapsed": false,
    "scrolled": false
   },
   "outputs": [
    {
     "data": {
      "text/plain": [
       "VendorID                   int64\n",
       "tpep_pickup_datetime     float64\n",
       "tpep_dropoff_datetime    float64\n",
       "passenger_count            int64\n",
       "trip_distance            float64\n",
       "pickup_longitude         float64\n",
       "pickup_latitude          float64\n",
       "RateCodeID                 int64\n",
       "store_and_fwd_flag          bool\n",
       "dropoff_longitude        float64\n",
       "dropoff_latitude         float64\n",
       "payment_type               int64\n",
       "fare_amount              float64\n",
       "extra                    float64\n",
       "mta_tax                  float64\n",
       "tip_amount               float64\n",
       "tolls_amount             float64\n",
       "improvement_surcharge    float64\n",
       "total_amount             float64\n",
       "dtype: object"
      ]
     },
     "execution_count": 66,
     "metadata": {},
     "output_type": "execute_result"
    }
   ],
   "source": [
    "df.dtypes"
   ]
  },
  {
   "cell_type": "code",
   "execution_count": null,
   "metadata": {
    "collapsed": true
   },
   "outputs": [],
   "source": [
    "reader = DataFileReader(open(\"users.avro\", \"rb\"), DatumReader())\n",
    "for user in reader:\n",
    "    print user\n",
    "reader.close()"
   ]
  }
 ],
 "metadata": {
  "kernelspec": {
   "display_name": "Python 2",
   "language": "python",
   "name": "python2"
  },
  "language_info": {
   "codemirror_mode": {
    "name": "ipython",
    "version": 2
   },
   "file_extension": ".py",
   "mimetype": "text/x-python",
   "name": "python",
   "nbconvert_exporter": "python",
   "pygments_lexer": "ipython2",
   "version": "2.7.10"
  }
 },
 "nbformat": 4,
 "nbformat_minor": 0
}
